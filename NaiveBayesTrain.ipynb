{
  "cells": [
    {
      "cell_type": "markdown",
      "metadata": {
        "colab_type": "text",
        "id": "view-in-github"
      },
      "source": [
        "<a href=\"https://colab.research.google.com/github/GoZaZombie/CTIP-Assignment-2/blob/main/NaiveBayesTrain.ipynb\" target=\"_parent\"><img src=\"https://colab.research.google.com/assets/colab-badge.svg\" alt=\"Open In Colab\"/></a>"
      ]
    },
    {
      "cell_type": "code",
      "execution_count": 5,
      "metadata": {
        "colab": {
          "base_uri": "https://localhost:8080/"
        },
        "id": "vHtKnKpFdeCK",
        "outputId": "bc61b5f1-61b3-49d0-e5e7-9f24b73a2522"
      },
      "outputs": [
        {
          "name": "stdout",
          "output_type": "stream",
          "text": [
            "\n",
            "Confusion Matrix:\n",
            "[[965   0]\n",
            " [ 42 108]]\n",
            "\n",
            "Classification Report:\n",
            "              precision    recall  f1-score   support\n",
            "\n",
            "           0       0.96      1.00      0.98       965\n",
            "           1       1.00      0.72      0.84       150\n",
            "\n",
            "    accuracy                           0.96      1115\n",
            "   macro avg       0.98      0.86      0.91      1115\n",
            "weighted avg       0.96      0.96      0.96      1115\n",
            "\n"
          ]
        }
      ],
      "source": [
        "import pandas as pd\n",
        "import numpy as np\n",
        "from sklearn.model_selection import train_test_split\n",
        "from sklearn.feature_extraction.text import CountVectorizer, TfidfVectorizer \n",
        "from sklearn.naive_bayes import MultinomialNB\n",
        "from sklearn.metrics import confusion_matrix, classification_report\n",
        "import seaborn as sns\n",
        "import matplotlib.pyplot as plt\n",
        "import joblib\n",
        "\n",
        "\n",
        "#import datasets\n",
        "#debug\n",
        "EmailSpamData = pd.read_csv('emails.csv', encoding='latin-1')\n",
        "#print(SpamData1.tail(20))\n",
        "\n",
        "SMSSpamData = pd.read_csv('spam.csv', encoding='latin-1')\n",
        "#debug\n",
        "#print(SpamData2.tail(20))\n",
        "\n",
        "#Normalizing the column name scheme\n",
        "SMSSpamData = SMSSpamData.drop(['Unnamed: 2', 'Unnamed: 3', 'Unnamed: 4'], axis=1)\n",
        "SMSSpamData = SMSSpamData.rename(columns={'v1': 'Classification', 'v2': 'Message'})\n",
        "EmailSpamData1 = EmailSpamData.rename(columns={'text': 'Message','spam': 'Classification'})\n",
        "#reorder Columns\n",
        "EmailSpamData1 = EmailSpamData1[['Message', 'Classification']]\n",
        "SMSSpamData = SMSSpamData[['Message', 'Classification']]\n",
        "#normalize values for spam and \"ham\"\n",
        "SMSSpamData.loc[SMSSpamData['Classification'] == 'spam', 'Classification'] = 1\n",
        "SMSSpamData.loc[SMSSpamData['Classification'] == 'ham', 'Classification'] = 0\n",
        "\n",
        "\n",
        "\n",
        "\n",
        "\n",
        "#debugging\n",
        "##print(SpamData1.tail(20))\n",
        "#print(SpamData2.tail(20))\n",
        "\n",
        "#join the data sets\n",
        "#SpamData = pd.concat([SpamData1, SpamData2], ignore_index=True)\n",
        "\n",
        "#debugging\n",
        "#print(SpamData.tail(20))\n",
        "\n",
        "\n",
        "# prepare data for Naive Bayes\n",
        "\n",
        "vectorizer = TfidfVectorizer() \n",
        "#vectorizer = CountVectorizer()\n",
        "X = vectorizer.fit_transform(SMSSpamData['Message'])\n",
        "Y = SMSSpamData['Classification'].astype(int) #seperates the data into x and y. x being the messages and y being the classification.\n",
        "\n",
        "X_TrainData, X_TestData, Y_TrainData, Y_TestData = train_test_split(X, Y , test_size=0.2, random_state =42) #splits the data into training and testing sets, currently 80 - 20 split\n",
        "\n",
        "\n",
        "# Initialize and train Naive Bayes model\n",
        "naive_bayes_model = MultinomialNB()\n",
        "naive_bayes_model.fit(X_TrainData, Y_TrainData)\n",
        "\n",
        "\n",
        "# Evaluate the model\n",
        "Y_PredData = naive_bayes_model.predict(X_TestData)\n",
        "\n",
        "print(\"\\nConfusion Matrix:\") #TP FP FN TN\n",
        "print(confusion_matrix(Y_TestData, Y_PredData))\n",
        "\n",
        "print(\"\\nClassification Report:\")\n",
        "print(classification_report(Y_TestData, Y_PredData))"
      ]
    },
    {
      "cell_type": "code",
      "execution_count": 6,
      "metadata": {
        "id": "_Vd4AmcogvBf"
      },
      "outputs": [
        {
          "data": {
            "text/plain": [
              "['NaiveBayesVectorizer.pkl']"
            ]
          },
          "execution_count": 6,
          "metadata": {},
          "output_type": "execute_result"
        }
      ],
      "source": [
        "joblib.dump(naive_bayes_model, \"NaiveBayesModel.pkl\")\n",
        "joblib.dump(vectorizer, \"NaiveBayesVectorizer.pkl\")"
      ]
    }
  ],
  "metadata": {
    "colab": {
      "authorship_tag": "ABX9TyOV5pBG3HwRCRlBLnWCmAqN",
      "include_colab_link": true,
      "provenance": []
    },
    "kernelspec": {
      "display_name": "Python 3",
      "name": "python3"
    },
    "language_info": {
      "codemirror_mode": {
        "name": "ipython",
        "version": 3
      },
      "file_extension": ".py",
      "mimetype": "text/x-python",
      "name": "python",
      "nbconvert_exporter": "python",
      "pygments_lexer": "ipython3",
      "version": "3.13.2"
    }
  },
  "nbformat": 4,
  "nbformat_minor": 0
}
