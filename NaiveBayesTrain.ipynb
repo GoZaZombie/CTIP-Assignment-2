{
  "cells": [
    {
      "cell_type": "markdown",
      "metadata": {
        "colab_type": "text",
        "id": "view-in-github"
      },
      "source": [
        "<a href=\"https://colab.research.google.com/github/GoZaZombie/CTIP-Assignment-2/blob/main/NaiveBayesTrain.ipynb\" target=\"_parent\"><img src=\"https://colab.research.google.com/assets/colab-badge.svg\" alt=\"Open In Colab\"/></a>"
      ]
    },
    {
      "cell_type": "code",
      "execution_count": 1,
      "metadata": {
        "colab": {
          "base_uri": "https://localhost:8080/"
        },
        "id": "vHtKnKpFdeCK",
        "outputId": "bc61b5f1-61b3-49d0-e5e7-9f24b73a2522"
      },
      "outputs": [
        {
          "ename": "ModuleNotFoundError",
          "evalue": "No module named 'sklearn'",
          "output_type": "error",
          "traceback": [
            "\u001b[31m---------------------------------------------------------------------------\u001b[39m",
            "\u001b[31mModuleNotFoundError\u001b[39m                       Traceback (most recent call last)",
            "\u001b[36mCell\u001b[39m\u001b[36m \u001b[39m\u001b[32mIn[1]\u001b[39m\u001b[32m, line 3\u001b[39m\n\u001b[32m      1\u001b[39m \u001b[38;5;28;01mimport\u001b[39;00m\u001b[38;5;250m \u001b[39m\u001b[34;01mpandas\u001b[39;00m\u001b[38;5;250m \u001b[39m\u001b[38;5;28;01mas\u001b[39;00m\u001b[38;5;250m \u001b[39m\u001b[34;01mpd\u001b[39;00m\n\u001b[32m      2\u001b[39m \u001b[38;5;28;01mimport\u001b[39;00m\u001b[38;5;250m \u001b[39m\u001b[34;01mnumpy\u001b[39;00m\u001b[38;5;250m \u001b[39m\u001b[38;5;28;01mas\u001b[39;00m\u001b[38;5;250m \u001b[39m\u001b[34;01mnp\u001b[39;00m\n\u001b[32m----> \u001b[39m\u001b[32m3\u001b[39m \u001b[38;5;28;01mfrom\u001b[39;00m\u001b[38;5;250m \u001b[39m\u001b[34;01msklearn\u001b[39;00m\u001b[34;01m.\u001b[39;00m\u001b[34;01mmodel_selection\u001b[39;00m\u001b[38;5;250m \u001b[39m\u001b[38;5;28;01mimport\u001b[39;00m train_test_split\n\u001b[32m      4\u001b[39m \u001b[38;5;28;01mfrom\u001b[39;00m\u001b[38;5;250m \u001b[39m\u001b[34;01msklearn\u001b[39;00m\u001b[34;01m.\u001b[39;00m\u001b[34;01mfeature_extraction\u001b[39;00m\u001b[34;01m.\u001b[39;00m\u001b[34;01mtext\u001b[39;00m\u001b[38;5;250m \u001b[39m\u001b[38;5;28;01mimport\u001b[39;00m CountVectorizer, TfidfVectorizer \n\u001b[32m      5\u001b[39m \u001b[38;5;28;01mfrom\u001b[39;00m\u001b[38;5;250m \u001b[39m\u001b[34;01msklearn\u001b[39;00m\u001b[34;01m.\u001b[39;00m\u001b[34;01mnaive_bayes\u001b[39;00m\u001b[38;5;250m \u001b[39m\u001b[38;5;28;01mimport\u001b[39;00m MultinomialNB\n",
            "\u001b[31mModuleNotFoundError\u001b[39m: No module named 'sklearn'"
          ]
        }
      ],
      "source": [
        "import pandas as pd\n",
        "import numpy as np\n",
        "from sklearn.model_selection import train_test_split\n",
        "from sklearn.feature_extraction.text import CountVectorizer, TfidfVectorizer \n",
        "from sklearn.naive_bayes import MultinomialNB\n",
        "from sklearn.metrics import confusion_matrix, classification_report\n",
        "import seaborn as sns\n",
        "import matplotlib.pyplot as plt\n",
        "\n",
        "\n",
        "\n",
        "#import datasets\n",
        "#debug\n",
        "EmailSpamData = pd.read_csv('emails.csv', encoding='latin-1')\n",
        "#print(SpamData1.tail(20))\n",
        "\n",
        "SMSSpamData = pd.read_csv('spam.csv', encoding='latin-1')\n",
        "#debug\n",
        "#print(SpamData2.tail(20))\n",
        "\n",
        "#Normalizing the column name scheme\n",
        "SMSSpamData = SMSSpamData.drop(['Unnamed: 2', 'Unnamed: 3', 'Unnamed: 4'], axis=1)\n",
        "SMSSpamData = SMSSpamData.rename(columns={'v1': 'Classification', 'v2': 'Message'})\n",
        "EmailSpamData1 = EmailSpamData.rename(columns={'text': 'Message','spam': 'Classification'})\n",
        "#reorder Columns\n",
        "EmailSpamData1 = EmailSpamData1[['Message', 'Classification']]\n",
        "SMSSpamData = SMSSpamData[['Message', 'Classification']]\n",
        "#normalize values for spam and \"ham\"\n",
        "SMSSpamData.loc[SMSSpamData['Classification'] == 'spam', 'Classification'] = 1\n",
        "SMSSpamData.loc[SMSSpamData['Classification'] == 'ham', 'Classification'] = 0\n",
        "\n",
        "\n",
        "\n",
        "\n",
        "\n",
        "#debugging\n",
        "##print(SpamData1.tail(20))\n",
        "#print(SpamData2.tail(20))\n",
        "\n",
        "#join the data sets\n",
        "#SpamData = pd.concat([SpamData1, SpamData2], ignore_index=True)\n",
        "\n",
        "#debugging\n",
        "#print(SpamData.tail(20))\n",
        "\n",
        "\n",
        "# prepare data for Naive Bayes\n",
        "\n",
        "vectorizer = TfidfVectorizer() \n",
        "#vectorizer = CountVectorizer()\n",
        "X = vectorizer.fit_transform(SMSSpamData['Message'])\n",
        "Y = SMSSpamData['Classification'].astype(int) #seperates the data into x and y. x being the messages and y being the classification.\n",
        "\n",
        "X_TrainData, X_TestData, Y_TrainData, Y_TestData = train_test_split(X, Y , test_size=0.2, random_state =42) #splits the data into training and testing sets, currently 80 - 20 split\n",
        "\n",
        "\n",
        "# Initialize and train Naive Bayes model\n",
        "naive_bayes_model = MultinomialNB()\n",
        "naive_bayes_model.fit(X_TrainData, Y_TrainData)\n",
        "\n",
        "\n",
        "# Evaluate the model\n",
        "Y_PredData = naive_bayes_model.predict(X_TestData)\n",
        "\n",
        "print(\"\\nConfusion Matrix:\") #TP FP FN TN\n",
        "print(confusion_matrix(Y_TestData, Y_PredData))\n",
        "\n",
        "print(\"\\nClassification Report:\")\n",
        "print(classification_report(Y_TestData, Y_PredData))"
      ]
    },
    {
      "cell_type": "code",
      "execution_count": null,
      "metadata": {
        "id": "_Vd4AmcogvBf"
      },
      "outputs": [],
      "source": []
    }
  ],
  "metadata": {
    "colab": {
      "authorship_tag": "ABX9TyOV5pBG3HwRCRlBLnWCmAqN",
      "include_colab_link": true,
      "provenance": []
    },
    "kernelspec": {
      "display_name": "Python 3",
      "name": "python3"
    },
    "language_info": {
      "codemirror_mode": {
        "name": "ipython",
        "version": 3
      },
      "file_extension": ".py",
      "mimetype": "text/x-python",
      "name": "python",
      "nbconvert_exporter": "python",
      "pygments_lexer": "ipython3",
      "version": "3.13.2"
    }
  },
  "nbformat": 4,
  "nbformat_minor": 0
}
