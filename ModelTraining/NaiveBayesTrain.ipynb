{
  "cells": [
    {
      "cell_type": "markdown",
      "metadata": {
        "colab_type": "text",
        "id": "view-in-github"
      },
      "source": [
        "<a href=\"https://colab.research.google.com/github/GoZaZombie/CTIP-Assignment-2/blob/main/NaiveBayesTrain.ipynb\" target=\"_parent\"><img src=\"https://colab.research.google.com/assets/colab-badge.svg\" alt=\"Open In Colab\"/></a>"
      ]
    },
    {
      "cell_type": "code",
      "execution_count": 3,
      "metadata": {
        "colab": {
          "base_uri": "https://localhost:8080/"
        },
        "id": "vHtKnKpFdeCK",
        "outputId": "bc61b5f1-61b3-49d0-e5e7-9f24b73a2522"
      },
      "outputs": [
        {
          "name": "stderr",
          "output_type": "stream",
          "text": [
            "C:\\Users\\User\\AppData\\Local\\Temp\\ipykernel_77020\\1439658758.py:52: FutureWarning: Downcasting behavior in `replace` is deprecated and will be removed in a future version. To retain the old behavior, explicitly call `result.infer_objects(copy=False)`. To opt-in to the future behavior, set `pd.set_option('future.no_silent_downcasting', True)`\n",
            "  SMSSpamDataCombined['Classification'] = SMSSpamDataCombined['Classification'].replace({'spam': 1, 'ham': 0, 'Spam': 1, 'Ham': 0})\n"
          ]
        }
      ],
      "source": [
        "import pandas as pd\n",
        "import numpy as np\n",
        "from sklearn.model_selection import train_test_split\n",
        "from sklearn.feature_extraction.text import CountVectorizer, TfidfVectorizer \n",
        "from sklearn.naive_bayes import MultinomialNB\n",
        "from sklearn.metrics import confusion_matrix, classification_report\n",
        "import seaborn as sns\n",
        "import matplotlib.pyplot as plt\n",
        "import joblib\n",
        "\n",
        "\n",
        "#import datasets\n",
        "EmailSpamData = pd.read_csv(r'../DataSets/emails.csv', encoding='latin-1')\n",
        "SMSSpamData = pd.read_csv(r'../DataSets/spam.csv', encoding='latin-1')\n",
        "SMSSpamData2 = pd.read_csv(r'../DataSets/FilteredSpamData.csv',  encoding='latin-1')\n",
        "\n",
        "#Normalizing the column name scheme\n",
        "SMSSpamData = SMSSpamData.drop(['Unnamed: 2', 'Unnamed: 3', 'Unnamed: 4'], axis=1)\n",
        "SMSSpamData = SMSSpamData.rename(columns={'v1': 'Classification', 'v2': 'Message'}) \n",
        "SMSSpamData2 = SMSSpamData2.rename(columns={'label': 'Classification', 'text': 'Message'})\n",
        "SMSSpamData2 = SMSSpamData2.drop(['URL', 'EMAIL', 'PHONE', 'lang','Unnamed: 6', 'Unnamed: 7' , 'Unnamed: 8' , 'Unnamed: 9' , 'Unnamed: 10'], axis=1)\n",
        "EmailSpamData = EmailSpamData.rename(columns={'text': 'Message','spam': 'Classification'})\n",
        "\n",
        "\n",
        "#reorder Columns    \n",
        "            #EmailDataSet\n",
        "EmailSpamData1 = EmailSpamData[['Message', 'Classification']]\n",
        "            #SMSData\n",
        "SMSSpamData = SMSSpamData[['Message', 'Classification']]\n",
        "SMSSpamData2 = SMSSpamData2[['Message', 'Classification']]\n",
        "\n",
        "\n",
        "\n",
        "\n",
        "\n",
        "\n",
        "vectorizer = CountVectorizer() \n",
        "vectorizer2 = TfidfVectorizer(\n",
        "    ngram_range=(1,2), \n",
        "    lowercase=True,\n",
        "    stop_words='english',\n",
        "    min_df=3,\n",
        "    max_df=0.9\n",
        ")\n",
        "#vectorizer = CountVectorizer() #testing different vectorizers\n",
        "\n",
        "\n",
        "\n",
        "#combines the two SMS data sets \n",
        "SMSSpamDataCombined = pd.concat([SMSSpamData, SMSSpamData2], ignore_index = True)\n",
        "# Ensure all 'Classification' values are 0 or 1\n",
        "SMSSpamDataCombined['Classification'] = SMSSpamDataCombined['Classification'].replace({'spam': 1, 'ham': 0, 'Spam': 1, 'Ham': 0})\n",
        "Y = SMSSpamDataCombined['Classification'].astype(int) #seperates the data into x and y. x being the messages and y being the classification.\n",
        "X = vectorizer.fit_transform(SMSSpamDataCombined['Message'])\n",
        "X_TrainData, X_TestData, Y_TrainData, Y_TestData = train_test_split(X, Y , test_size=0.2, random_state =42) #splits the data into training and testing sets, currently 80 - 20 split\n",
        "# Initialize and train Naive Bayes model for SMS\n",
        "naive_bayes_model = MultinomialNB()\n",
        "naive_bayes_model.fit(X_TrainData, Y_TrainData)\n",
        "\n",
        "# Evaluate the model\n",
        "Y_PredData = naive_bayes_model.predict(X_TestData)\n",
        "\n",
        "\n",
        "#EMAIL Model \n",
        "B = EmailSpamData['Classification'] = EmailSpamData['Classification'].replace({'spam': 1, 'ham': 0, 'Spam': 1, 'Ham': 0})\n",
        "A = vectorizer2.fit_transform(EmailSpamData['Message'])\n",
        "A_TrainData, A_TestData, B_TrainData, B_TestData = train_test_split(A, B , test_size=0.2, random_state =42)\n",
        "\n",
        "naive_bayes_modelEmail = MultinomialNB()\n",
        "naive_bayes_modelEmail.fit(A_TrainData, B_TrainData)\n",
        "\n",
        "B_PredData = naive_bayes_modelEmail.predict(A_TestData)\n"
      ]
    },
    {
      "cell_type": "code",
      "execution_count": 4,
      "metadata": {},
      "outputs": [
        {
          "name": "stdout",
          "output_type": "stream",
          "text": [
            "SMS Model:\n",
            "\n",
            "Confusion Matrix:\n",
            "[[1903    9]\n",
            " [  14  359]]\n",
            "\n",
            "Classification Report:\n",
            "              precision    recall  f1-score   support\n",
            "\n",
            "           0       0.99      1.00      0.99      1912\n",
            "           1       0.98      0.96      0.97       373\n",
            "\n",
            "    accuracy                           0.99      2285\n",
            "   macro avg       0.98      0.98      0.98      2285\n",
            "weighted avg       0.99      0.99      0.99      2285\n",
            "\n"
          ]
        }
      ],
      "source": [
        "print(f\"SMS Model:\")\n",
        "print(\"\\nConfusion Matrix:\") #TP FP FN TN\n",
        "print(confusion_matrix(Y_TestData, Y_PredData))\n",
        "\n",
        "print(\"\\nClassification Report:\")\n",
        "print(classification_report(Y_TestData, Y_PredData))\n"
      ]
    },
    {
      "cell_type": "code",
      "execution_count": 5,
      "metadata": {},
      "outputs": [
        {
          "name": "stdout",
          "output_type": "stream",
          "text": [
            "Email Model: \n",
            "\n",
            "Confusion Matrix:\n",
            "[[856   0]\n",
            " [ 73 217]]\n",
            "\n",
            "Classification Report:\n",
            "              precision    recall  f1-score   support\n",
            "\n",
            "           0       0.92      1.00      0.96       856\n",
            "           1       1.00      0.75      0.86       290\n",
            "\n",
            "    accuracy                           0.94      1146\n",
            "   macro avg       0.96      0.87      0.91      1146\n",
            "weighted avg       0.94      0.94      0.93      1146\n",
            "\n"
          ]
        }
      ],
      "source": [
        "print(f\"Email Model: \")\n",
        "print(\"\\nConfusion Matrix:\") #TP FP FN TN\n",
        "print(confusion_matrix(B_TestData, B_PredData))\n",
        "\n",
        "print(\"\\nClassification Report:\")\n",
        "print(classification_report(B_TestData, B_PredData))"
      ]
    },
    {
      "cell_type": "code",
      "execution_count": 6,
      "metadata": {
        "id": "_Vd4AmcogvBf"
      },
      "outputs": [
        {
          "data": {
            "text/plain": [
              "['NaiveBayesVectorizer2.pkl']"
            ]
          },
          "execution_count": 6,
          "metadata": {},
          "output_type": "execute_result"
        }
      ],
      "source": [
        "joblib.dump(naive_bayes_model, \"NaiveBayesModel.pkl\")\n",
        "joblib.dump(vectorizer, \"NaiveBayesVectorizer.pkl\")\n",
        "\n",
        "joblib.dump(naive_bayes_modelEmail, \"NaiveBayesModelEmail.pkl\")\n",
        "joblib.dump(vectorizer2, \"NaiveBayesVectorizer2.pkl\")"
      ]
    },
    {
      "cell_type": "code",
      "execution_count": 7,
      "metadata": {},
      "outputs": [
        {
          "data": {
            "image/png": "[encoded data removed]",
            "text/plain": [
              "<Figure size 640x480 with 2 Axes>"
            ]
          },
          "metadata": {},
          "output_type": "display_data"
        },
        {
          "name": "stdout",
          "output_type": "stream",
          "text": [
            "Classification\n",
            "0    9565\n",
            "1    1857\n",
            "Name: count, dtype: int64\n"
          ]
        }
      ],
      "source": [
        "cm = confusion_matrix(Y_TestData, Y_PredData)\n",
        "sns.heatmap(cm, annot=True, fmt='d', cmap='Blues', xticklabels=['Ham','Spam'], yticklabels=['Ham','Spam'])\n",
        "plt.xlabel('Predicted')\n",
        "plt.ylabel('Actual')\n",
        "plt.title('Confusion Matrix')\n",
        "plt.show()\n",
        "\n",
        "\n",
        "print(SMSSpamDataCombined['Classification'].value_counts())\n"
      ]
    },
    {
      "cell_type": "code",
      "execution_count": 8,
      "metadata": {},
      "outputs": [
        {
          "data": {
            "image/png": "[encoded data removed]",
            "text/plain": [
              "<Figure size 640x480 with 2 Axes>"
            ]
          },
          "metadata": {},
          "output_type": "display_data"
        },
        {
          "name": "stdout",
          "output_type": "stream",
          "text": [
            "Classification\n",
            "0    4360\n",
            "1    1368\n",
            "Name: count, dtype: int64\n"
          ]
        }
      ],
      "source": [
        "cm = confusion_matrix(B_TestData, B_PredData)\n",
        "sns.heatmap(cm, annot=True, fmt='d', cmap='Blues', xticklabels=['Ham','Spam'], yticklabels=['Ham','Spam'])\n",
        "plt.xlabel('Predicted')\n",
        "plt.ylabel('Actual')\n",
        "plt.title('Confusion Matrix')\n",
        "plt.show()\n",
        "\n",
        "\n",
        "print(EmailSpamData['Classification'].value_counts())"
      ]
    }
  ],
  "metadata": {
    "colab": {
      "authorship_tag": "ABX9TyOV5pBG3HwRCRlBLnWCmAqN",
      "include_colab_link": true,
      "provenance": []
    },
    "kernelspec": {
      "display_name": "Python 3",
      "name": "python3"
    },
    "language_info": {
      "codemirror_mode": {
        "name": "ipython",
        "version": 3
      },
      "file_extension": ".py",
      "mimetype": "text/x-python",
      "name": "python",
      "nbconvert_exporter": "python",
      "pygments_lexer": "ipython3",
      "version": "3.13.2"
    }
  },
  "nbformat": 4,
  "nbformat_minor": 0
}
